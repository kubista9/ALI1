{
 "cells": [
  {
   "cell_type": "code",
   "execution_count": 16,
   "metadata": {},
   "outputs": [],
   "source": [
    "import sympy as sp\n",
    "from sympy import *\n",
    "init_printing()\n",
    "from IPython.display import display, Latex, HTML\n",
    "import numpy as np"
   ]
  },
  {
   "cell_type": "markdown",
   "metadata": {},
   "source": [
    "### Doing SVD (semi-)manually"
   ]
  },
  {
   "cell_type": "code",
   "execution_count": 17,
   "metadata": {},
   "outputs": [
    {
     "data": {
      "image/png": "[encoded data removed]",
      "text/latex": [
       "$\\displaystyle \\left\\{ 1 : 1, \\  3 : 1\\right\\}$"
      ],
      "text/plain": [
       "{1: 1, 3: 1}"
      ]
     },
     "execution_count": 17,
     "metadata": {},
     "output_type": "execute_result"
    }
   ],
   "source": [
    "A = Matrix([[0,1], [1, 0], [1, 1]])\n",
    "\n",
    "# Step 1: Find eigenvalues of AtA\n",
    "AtA = A.T*A\n",
    "AtA.eigenvals()"
   ]
  },
  {
   "cell_type": "code",
   "execution_count": 18,
   "metadata": {},
   "outputs": [
    {
     "data": {
      "image/png": "[encoded data removed]",
      "text/latex": [
       "$\\displaystyle \\left[\\begin{matrix}0 & 1\\\\1 & 0\\\\1 & 1\\end{matrix}\\right]$"
      ],
      "text/plain": [
       "⎡0  1⎤\n",
       "⎢    ⎥\n",
       "⎢1  0⎥\n",
       "⎢    ⎥\n",
       "⎣1  1⎦"
      ]
     },
     "execution_count": 18,
     "metadata": {},
     "output_type": "execute_result"
    }
   ],
   "source": [
    "A"
   ]
  },
  {
   "cell_type": "code",
   "execution_count": 19,
   "metadata": {},
   "outputs": [
    {
     "data": {
      "image/png": "[encoded data removed]",
      "text/latex": [
       "$\\displaystyle \\left( \\left[\\begin{matrix}1 & -1\\\\0 & 0\\end{matrix}\\right], \\  \\left[\\begin{matrix}1 & 1\\\\0 & 0\\end{matrix}\\right]\\right)$"
      ],
      "text/plain": [
       "⎛⎡1  -1⎤  ⎡1  1⎤⎞\n",
       "⎜⎢     ⎥, ⎢    ⎥⎟\n",
       "⎝⎣0  0 ⎦  ⎣0  0⎦⎠"
      ]
     },
     "execution_count": 19,
     "metadata": {},
     "output_type": "execute_result"
    }
   ],
   "source": [
    "# Step 2: Find corresponding eigenspace - since we are using AtA we will be finding the right eigenvectors\n",
    "(AtA-3*eye(2)).rref()[0], (AtA-1*eye(2)).rref()[0]"
   ]
  },
  {
   "cell_type": "code",
   "execution_count": 20,
   "metadata": {},
   "outputs": [],
   "source": [
    "v1 = Matrix([1,1])\n",
    "v1 = v1.normalized()\n",
    "v2 = Matrix([-1, 1])\n",
    "v2 = v2.normalized()"
   ]
  },
  {
   "cell_type": "code",
   "execution_count": 21,
   "metadata": {},
   "outputs": [],
   "source": [
    "# Step 3a: We derive the u vectors from the v vectors\n",
    "u1 = (1/sqrt(3))*A*v1\n",
    "u2 = A*v2"
   ]
  },
  {
   "cell_type": "code",
   "execution_count": 22,
   "metadata": {},
   "outputs": [
    {
     "data": {
      "image/png": "[encoded data removed]",
      "text/latex": [
       "$\\displaystyle \\left( \\left[\\begin{matrix}1 & 0 & 1 & 0\\\\0 & 1 & 1 & 0\\end{matrix}\\right], \\  \\left( 0, \\  1\\right)\\right)$"
      ],
      "text/plain": [
       "⎛⎡1  0  1  0⎤        ⎞\n",
       "⎜⎢          ⎥, (0, 1)⎟\n",
       "⎝⎣0  1  1  0⎦        ⎠"
      ]
     },
     "execution_count": 22,
     "metadata": {},
     "output_type": "execute_result"
    }
   ],
   "source": [
    "# Step 3b: Since n > m (more rows than columns) we will have less v vectors than u vectors.\n",
    "# We use the following trick to obtain the last vector: u1.dot(u3) = 0 AND u2.dot(u3) = 0.\n",
    "# This will give us two equations with three unknowns. That means one free variable thus dim nul = 1\n",
    "# This one vectors will be orthogonal to u1 and u2 since we defined in that way\n",
    "Matrix([[1, 1, 2, 0], [1, -1, 0, 0]]).rref()"
   ]
  },
  {
   "cell_type": "code",
   "execution_count": 23,
   "metadata": {},
   "outputs": [
    {
     "data": {
      "image/png": "[encoded data removed]",
      "text/latex": [
       "$\\displaystyle \\left[\\begin{matrix}- \\frac{\\sqrt{3}}{3}\\\\- \\frac{\\sqrt{3}}{3}\\\\\\frac{\\sqrt{3}}{3}\\end{matrix}\\right]$"
      ],
      "text/plain": [
       "⎡-√3 ⎤\n",
       "⎢────⎥\n",
       "⎢ 3  ⎥\n",
       "⎢    ⎥\n",
       "⎢-√3 ⎥\n",
       "⎢────⎥\n",
       "⎢ 3  ⎥\n",
       "⎢    ⎥\n",
       "⎢ √3 ⎥\n",
       "⎢ ── ⎥\n",
       "⎣ 3  ⎦"
      ]
     },
     "execution_count": 23,
     "metadata": {},
     "output_type": "execute_result"
    }
   ],
   "source": [
    "u3 = Matrix([-1, -1, 1])\n",
    "u3 = u3.normalized()\n",
    "u3"
   ]
  },
  {
   "cell_type": "code",
   "execution_count": 24,
   "metadata": {},
   "outputs": [
    {
     "data": {
      "image/png": "[encoded data removed]",
      "text/latex": [
       "$\\displaystyle \\left[\\begin{matrix}\\frac{\\sqrt{2}}{2} & \\frac{\\sqrt{2}}{2}\\\\- \\frac{\\sqrt{2}}{2} & \\frac{\\sqrt{2}}{2}\\end{matrix}\\right]$"
      ],
      "text/plain": [
       "⎡ √2   √2⎤\n",
       "⎢ ──   ──⎥\n",
       "⎢ 2    2 ⎥\n",
       "⎢        ⎥\n",
       "⎢-√2   √2⎥\n",
       "⎢────  ──⎥\n",
       "⎣ 2    2 ⎦"
      ]
     },
     "execution_count": 24,
     "metadata": {},
     "output_type": "execute_result"
    }
   ],
   "source": [
    "# Step 4a: We create V and Vt:\n",
    "V = v1.row_join(v2)\n",
    "Vt = V.T\n",
    "Vt"
   ]
  },
  {
   "cell_type": "code",
   "execution_count": 25,
   "metadata": {},
   "outputs": [
    {
     "data": {
      "image/png": "[encoded data removed]",
      "text/latex": [
       "$\\displaystyle \\left[\\begin{matrix}\\frac{\\sqrt{6}}{6} & \\frac{\\sqrt{2}}{2} & - \\frac{\\sqrt{3}}{3}\\\\\\frac{\\sqrt{6}}{6} & - \\frac{\\sqrt{2}}{2} & - \\frac{\\sqrt{3}}{3}\\\\\\frac{\\sqrt{6}}{3} & 0 & \\frac{\\sqrt{3}}{3}\\end{matrix}\\right]$"
      ],
      "text/plain": [
       "⎡√6   √2   -√3 ⎤\n",
       "⎢──   ──   ────⎥\n",
       "⎢6    2     3  ⎥\n",
       "⎢              ⎥\n",
       "⎢√6  -√2   -√3 ⎥\n",
       "⎢──  ────  ────⎥\n",
       "⎢6    2     3  ⎥\n",
       "⎢              ⎥\n",
       "⎢√6         √3 ⎥\n",
       "⎢──   0     ── ⎥\n",
       "⎣3          3  ⎦"
      ]
     },
     "execution_count": 25,
     "metadata": {},
     "output_type": "execute_result"
    }
   ],
   "source": [
    "\n",
    "U = u1.row_join(u2).row_join(u3)\n",
    "U"
   ]
  },
  {
   "cell_type": "code",
   "execution_count": 26,
   "metadata": {},
   "outputs": [
    {
     "data": {
      "image/png": "[encoded data removed]",
      "text/latex": [
       "$\\displaystyle \\left[\\begin{matrix}\\sqrt{3} & 0\\\\0 & 1\\\\0 & 0\\end{matrix}\\right]$"
      ],
      "text/plain": [
       "⎡√3  0⎤\n",
       "⎢     ⎥\n",
       "⎢0   1⎥\n",
       "⎢     ⎥\n",
       "⎣0   0⎦"
      ]
     },
     "execution_count": 26,
     "metadata": {},
     "output_type": "execute_result"
    }
   ],
   "source": [
    "# Step 4bc: We create S as a diagonal matrix and fill in with zeros to obtain same size as A\n",
    "s1 = sqrt(3)\n",
    "s2 = sqrt(1)\n",
    "\n",
    "S = diag(s1, s2).col_join(zeros(1,2))\n",
    "S"
   ]
  },
  {
   "cell_type": "code",
   "execution_count": 27,
   "metadata": {},
   "outputs": [
    {
     "data": {
      "text/plain": [
       "True"
      ]
     },
     "execution_count": 27,
     "metadata": {},
     "output_type": "execute_result"
    }
   ],
   "source": [
    "# Step 5: We test\n",
    "U*S*Vt == A"
   ]
  },
  {
   "cell_type": "markdown",
   "metadata": {},
   "source": [
    "### Doing SVD (almost) automatically"
   ]
  },
  {
   "cell_type": "code",
   "execution_count": 28,
   "metadata": {},
   "outputs": [],
   "source": [
    "A = Matrix([[0, 1], [1, 0], [1,1]])"
   ]
  },
  {
   "cell_type": "code",
   "execution_count": 29,
   "metadata": {},
   "outputs": [
    {
     "data": {
      "image/png": "[encoded data removed]",
      "text/latex": [
       "$\\displaystyle \\left[ \\left( 1, \\  1, \\  \\left[ \\left[\\begin{matrix}-1\\\\1\\end{matrix}\\right]\\right]\\right), \\  \\left( 3, \\  1, \\  \\left[ \\left[\\begin{matrix}1\\\\1\\end{matrix}\\right]\\right]\\right)\\right]$"
      ],
      "text/plain": [
       "⎡⎛      ⎡⎡-1⎤⎤⎞  ⎛      ⎡⎡1⎤⎤⎞⎤\n",
       "⎢⎜1, 1, ⎢⎢  ⎥⎥⎟, ⎜3, 1, ⎢⎢ ⎥⎥⎟⎥\n",
       "⎣⎝      ⎣⎣1 ⎦⎦⎠  ⎝      ⎣⎣1⎦⎦⎠⎦"
      ]
     },
     "execution_count": 29,
     "metadata": {},
     "output_type": "execute_result"
    }
   ],
   "source": [
    "# Step 1+2\n",
    "AtA = A.T*A\n",
    "vecs = AtA.eigenvects()\n",
    "vecs"
   ]
  },
  {
   "cell_type": "code",
   "execution_count": 30,
   "metadata": {},
   "outputs": [],
   "source": [
    "# Step 3a:\n",
    "u1 = (s1**-1)*A*v1\n",
    "u2 = (s2**-1)*A*v2\n",
    "\n",
    "# We are missing obe vector for U\n",
    "u3 = Matrix([u1.T, u2.T]).nullspace()[0].normalized()"
   ]
  },
  {
   "cell_type": "code",
   "execution_count": 31,
   "metadata": {},
   "outputs": [
    {
     "data": {
      "text/latex": [
       "$$A = \\left[\\begin{matrix}\\frac{\\sqrt{6}}{6} & \\frac{\\sqrt{2}}{2} & - \\frac{\\sqrt{3}}{3}\\\\\\frac{\\sqrt{6}}{6} & - \\frac{\\sqrt{2}}{2} & - \\frac{\\sqrt{3}}{3}\\\\\\frac{\\sqrt{6}}{3} & 0 & \\frac{\\sqrt{3}}{3}\\end{matrix}\\right]\\left[\\begin{matrix}\\sqrt{3} & 0\\\\0 & 1\\\\0 & 0\\end{matrix}\\right]\\left[\\begin{matrix}\\frac{\\sqrt{2}}{2} & \\frac{\\sqrt{2}}{2}\\\\- \\frac{\\sqrt{2}}{2} & \\frac{\\sqrt{2}}{2}\\end{matrix}\\right]$$"
      ],
      "text/plain": [
       "<IPython.core.display.Latex object>"
      ]
     },
     "metadata": {},
     "output_type": "display_data"
    }
   ],
   "source": [
    "# Step 4\n",
    "V = v1.row_join(v2)\n",
    "Vt = V.T\n",
    "U = u1.row_join(u2).row_join(u3)\n",
    "S = diag(s1, s2).col_join(zeros(1,2))\n",
    "display(Latex(\"$$A = {}{}{}$$\".format(latex(U), latex(S), latex(Vt))))"
   ]
  },
  {
   "cell_type": "code",
   "execution_count": 32,
   "metadata": {},
   "outputs": [],
   "source": [
    "# Pseudoinverse\n",
    "S_plus = (S.T).applyfunc(lambda x: 1/x if x != 0 else 0)\n",
    "\n",
    "A_plus = V*S_plus*(U.T)\n"
   ]
  },
  {
   "cell_type": "code",
   "execution_count": 33,
   "metadata": {},
   "outputs": [
    {
     "data": {
      "image/png": "[encoded data removed]",
      "text/latex": [
       "$\\displaystyle \\left[\\begin{matrix}- \\frac{1}{3} & \\frac{2}{3} & \\frac{1}{3}\\\\\\frac{2}{3} & - \\frac{1}{3} & \\frac{1}{3}\\end{matrix}\\right]$"
      ],
      "text/plain": [
       "⎡-1/3  2/3   1/3⎤\n",
       "⎢               ⎥\n",
       "⎣2/3   -1/3  1/3⎦"
      ]
     },
     "execution_count": 33,
     "metadata": {},
     "output_type": "execute_result"
    }
   ],
   "source": [
    "A_plus"
   ]
  },
  {
   "cell_type": "code",
   "execution_count": 34,
   "metadata": {},
   "outputs": [
    {
     "data": {
      "image/png": "[encoded data removed]",
      "text/latex": [
       "$\\displaystyle \\left[\\begin{matrix}- \\frac{1}{3} & \\frac{2}{3} & \\frac{1}{3}\\\\\\frac{2}{3} & - \\frac{1}{3} & \\frac{1}{3}\\end{matrix}\\right]$"
      ],
      "text/plain": [
       "⎡-1/3  2/3   1/3⎤\n",
       "⎢               ⎥\n",
       "⎣2/3   -1/3  1/3⎦"
      ]
     },
     "execution_count": 34,
     "metadata": {},
     "output_type": "execute_result"
    }
   ],
   "source": [
    "A.pinv()"
   ]
  }
 ],
 "metadata": {
  "kernelspec": {
   "display_name": "Python 3",
   "language": "python",
   "name": "python3"
  },
  "language_info": {
   "codemirror_mode": {
    "name": "ipython",
    "version": 3
   },
   "file_extension": ".py",
   "mimetype": "text/x-python",
   "name": "python",
   "nbconvert_exporter": "python",
   "pygments_lexer": "ipython3",
   "version": "3.13.5"
  }
 },
 "nbformat": 4,
 "nbformat_minor": 4
}
