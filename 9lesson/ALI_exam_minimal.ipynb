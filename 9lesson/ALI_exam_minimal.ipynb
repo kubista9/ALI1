{
 "cells": [
  {
   "cell_type": "markdown",
   "id": "c53ab0a5",
   "metadata": {},
   "source": [
    "# ALI Exams — Minimal Code Pack\n",
    "Only the essentials: a small **Helpers** cell and then one code cell per exercise.\n",
    "Each section is titled `Year — Assignment: Name`."
   ]
  },
  {
   "cell_type": "code",
   "execution_count": 4,
   "id": "7eb4f377",
   "metadata": {},
   "outputs": [],
   "source": [
    "\n",
    "# === Helpers (run once) ===\n",
    "import numpy as np\n",
    "\n",
    "def svd(A):\n",
    "    U,S,Vt = np.linalg.svd(np.asarray(A, dtype=float), full_matrices=True)\n",
    "    return U,S,Vt\n",
    "\n",
    "def recon_err(A, U, S, Vt):\n",
    "    A = np.asarray(A, dtype=float)\n",
    "    m,n = A.shape\n",
    "    Sigma = np.zeros((m,n)); np.fill_diagonal(Sigma, S)\n",
    "    return np.linalg.norm(A - U@Sigma@Vt)\n",
    "\n",
    "def gs(vectors):\n",
    "    V = [np.asarray(v, dtype=float).reshape(-1,1) for v in vectors]\n",
    "    U = []\n",
    "    for v in V:\n",
    "        u = v.copy()\n",
    "        for w in U:\n",
    "            u -= (w.T@v)/(w.T@w)*w\n",
    "        if np.linalg.norm(u) > 1e-12: U.append(u)\n",
    "    return [u.flatten() for u in U]\n",
    "\n",
    "def gs_on(vectors):\n",
    "    return [u/np.linalg.norm(u) for u in gs(vectors)]\n",
    "\n",
    "def fit(X,y):\n",
    "    X = np.asarray(X, float); y = np.asarray(y, float).reshape(-1,1)\n",
    "    beta, *_ = np.linalg.lstsq(X, y, rcond=None)\n",
    "    yhat = X@beta\n",
    "    resid = y - yhat\n",
    "    SSE = float((resid.T@resid).item())\n",
    "    SST = float(((y - y.mean())**2).sum())\n",
    "    R2 = 1 - SSE/SST if SST>0 else float(\"nan\")\n",
    "    return beta.flatten(), yhat.flatten(), SSE, R2\n"
   ]
  },
  {
   "cell_type": "markdown",
   "id": "e57af96a",
   "metadata": {},
   "source": [
    "## 2018 Re-Exam — Assignment 5: Gram–Schmidt in ℝ⁴"
   ]
  },
  {
   "cell_type": "code",
   "execution_count": 5,
   "id": "782d13a5",
   "metadata": {},
   "outputs": [
    {
     "name": "stdout",
     "output_type": "stream",
     "text": [
      "Orthogonal basis:\n",
      "[1. 0. 0. 1.]\n",
      "[0. 0. 1. 0.]\n",
      "[ 1.  2.  0. -1.]\n",
      "\n",
      "Orthonormal basis:\n",
      "[0.70710678 0.         0.         0.70710678] || 0.9999999999999999\n",
      "[0. 0. 1. 0.] || 1.0\n",
      "[ 0.40824829  0.81649658  0.         -0.40824829] || 1.0\n"
     ]
    },
    {
     "data": {
      "text/plain": [
       "[None, None, None]"
      ]
     },
     "execution_count": 5,
     "metadata": {},
     "output_type": "execute_result"
    }
   ],
   "source": [
    "\n",
    "v1 = [1,0,0,1]; v2 = [1,0,1,1]; v3 = [3,2,1,1]\n",
    "orth = gs([v1,v2,v3])\n",
    "on = gs_on([v1,v2,v3])\n",
    "print(\"Orthogonal basis:\"); [print(u) for u in orth]\n",
    "print(\"\\nOrthonormal basis:\"); [print(u, \"||\", np.linalg.norm(u)) for u in on]\n"
   ]
  },
  {
   "cell_type": "markdown",
   "id": "05331c76",
   "metadata": {},
   "source": [
    "## 2018 Re-Exam — Assignment 6: TV_Viewing (linear vs quadratic)"
   ]
  },
  {
   "cell_type": "code",
   "execution_count": 6,
   "id": "e63acd2a",
   "metadata": {},
   "outputs": [
    {
     "ename": "ModuleNotFoundError",
     "evalue": "No module named 'scipy'",
     "output_type": "error",
     "traceback": [
      "\u001b[31m---------------------------------------------------------------------------\u001b[39m",
      "\u001b[31mModuleNotFoundError\u001b[39m                       Traceback (most recent call last)",
      "\u001b[36mCell\u001b[39m\u001b[36m \u001b[39m\u001b[32mIn[6]\u001b[39m\u001b[32m, line 1\u001b[39m\n\u001b[32m----> \u001b[39m\u001b[32m1\u001b[39m \u001b[38;5;28;01mfrom\u001b[39;00m\u001b[38;5;250m \u001b[39m\u001b[34;01mscipy\u001b[39;00m\u001b[34;01m.\u001b[39;00m\u001b[34;01mio\u001b[39;00m\u001b[38;5;250m \u001b[39m\u001b[38;5;28;01mimport\u001b[39;00m loadmat\n\u001b[32m      2\u001b[39m \u001b[38;5;28;01mtry\u001b[39;00m:\n\u001b[32m      3\u001b[39m     mat = loadmat(\u001b[33m\"\u001b[39m\u001b[33mTV_Viewing.mat\u001b[39m\u001b[33m\"\u001b[39m)\n",
      "\u001b[31mModuleNotFoundError\u001b[39m: No module named 'scipy'"
     ]
    }
   ],
   "source": [
    "\n",
    "from scipy.io import loadmat\n",
    "try:\n",
    "    mat = loadmat(\"TV_Viewing.mat\")\n",
    "    arr = np.asarray(mat.get(\"TV_Viewing\", mat.get(\"data\", None)), float)\n",
    "    age, hours = arr[:,0], arr[:,1]\n",
    "    Xlin  = np.column_stack([np.ones_like(age), age])\n",
    "    Xquad = np.column_stack([np.ones_like(age), age, age**2])\n",
    "    bL, yL, sseL, r2L = fit(Xlin, hours)\n",
    "    bQ, yQ, sseQ, r2Q = fit(Xquad, hours)\n",
    "    print(\"Linear beta:\", bL, \" SSE:\", sseL, \" R2:\", r2L)\n",
    "    print(\"Quadratic beta:\", bQ, \" SSE:\", sseQ, \" R2:\", r2Q)\n",
    "    print(\"Best by SSE:\", \"Quadratic\" if sseQ < sseL else \"Linear\")\n",
    "except Exception as e:\n",
    "    print(\"Place TV_Viewing.mat next to this notebook. Error:\", e)\n"
   ]
  },
  {
   "cell_type": "markdown",
   "id": "1f8daee0",
   "metadata": {},
   "source": [
    "## 2018 Re-Exam — Assignment 7: SVD of 2×3 matrix"
   ]
  },
  {
   "cell_type": "code",
   "execution_count": null,
   "id": "c88548fb",
   "metadata": {},
   "outputs": [],
   "source": [
    "\n",
    "A = np.array([[3,1,1],\n",
    "              [1,3,1]], float)\n",
    "U,S,Vt = svd(A)\n",
    "print(\"Singular values:\", S)\n",
    "print(\"Recon error:\", recon_err(A,U,S,Vt))\n",
    "print(\"U:\\n\", U); print(\"V^T:\\n\", Vt)\n"
   ]
  },
  {
   "cell_type": "markdown",
   "id": "5aec71b2",
   "metadata": {},
   "source": [
    "## 2019 Exam — Assignment 2: Span & Dependence"
   ]
  },
  {
   "cell_type": "code",
   "execution_count": null,
   "id": "4b143160",
   "metadata": {},
   "outputs": [],
   "source": [
    "\n",
    "A = np.array([[ 4,  8, -2],\n",
    "              [ 6,  2, 10],\n",
    "              [ 2,  6,  6]], float)\n",
    "b = np.array([2,18,15], float)\n",
    "x, *_ = np.linalg.lstsq(A, b, rcond=None)\n",
    "res = np.linalg.norm(A@x - b)\n",
    "rank = np.linalg.matrix_rank(A)\n",
    "print(\"Least-squares residual:\", res, \" -> b in Col(A)?\", res<1e-10)\n",
    "print(\"rank(A) =\", rank, \" -> columns dependent?\" , rank < A.shape[1])\n"
   ]
  },
  {
   "cell_type": "markdown",
   "id": "aca64746",
   "metadata": {},
   "source": [
    "## 2019 Exam — Assignment 3: Determinants (symbolic)"
   ]
  },
  {
   "cell_type": "code",
   "execution_count": null,
   "id": "9084ef4a",
   "metadata": {},
   "outputs": [],
   "source": [
    "\n",
    "import sympy as sp\n",
    "x = sp.symbols('x')\n",
    "a,b,c = sp.symbols('a b c')\n",
    "M = sp.Matrix([[a - x, b,     c],\n",
    "               [1,     -x,    0],\n",
    "               [0,      1,   -x]])\n",
    "print(\"det polynomial:\", sp.factor(M.det()))\n",
    "\n",
    "lam = sp.symbols('lam')\n",
    "M2 = sp.Matrix([[2 - lam, 4],[3, 2 - lam]])\n",
    "print(\"det=0 roots:\", sp.solve(sp.Eq(M2.det(),0), lam))\n"
   ]
  },
  {
   "cell_type": "markdown",
   "id": "f86f17aa",
   "metadata": {},
   "source": [
    "## 2019 Exam — Assignment 4: Orthonormal basis of W ⊆ ℝ⁴"
   ]
  },
  {
   "cell_type": "code",
   "execution_count": null,
   "id": "8743a3c2",
   "metadata": {},
   "outputs": [],
   "source": [
    "\n",
    "# Constraint: 2x1 - x3 + x4 = 0  -> choose simple spanning set, then ON it\n",
    "B = np.column_stack([[1,0,2,0],  # x3=2 -> x1=1\n",
    "                     [0,1,0,0],  # x2=1\n",
    "                     [-1,0,0,2]])# x4=2 -> x1=-1\n",
    "on = gs_on([B[:,0], B[:,1], B[:,2]])\n",
    "for u in on: print(u, \"||\", np.linalg.norm(u))\n"
   ]
  },
  {
   "cell_type": "markdown",
   "id": "61315c53",
   "metadata": {},
   "source": [
    "## 2019 Exam — Assignment 6: Smoking & Cancer (choose best, predict at 50)"
   ]
  },
  {
   "cell_type": "code",
   "execution_count": null,
   "id": "e98ecab2",
   "metadata": {},
   "outputs": [],
   "source": [
    "\n",
    "import pandas as pd\n",
    "try:\n",
    "    df = pd.read_excel(\"Smoking_and_Cancer.xlsx\")\n",
    "    x = df.iloc[:,0].to_numpy(float); y = df.iloc[:,1].to_numpy(float)\n",
    "    Xlin  = np.column_stack([np.ones_like(x), x])\n",
    "    Xquad = np.column_stack([x, x**2])  # no intercept\n",
    "    bL,_,sseL,r2L = fit(Xlin, y)\n",
    "    bQ,_,sseQ,r2Q = fit(Xquad,y)\n",
    "    print(\"Linear:\", bL, \" SSE:\", sseL, \" R2:\", r2L)\n",
    "    print(\"Quadratic(no c0):\", bQ, \" SSE:\", sseQ, \" R2:\", r2Q)\n",
    "    use_quad = sseQ < sseL\n",
    "    x0 = 50.0\n",
    "    ypred = (bQ[0]*x0 + bQ[1]*x0**2) if use_quad else (bL[0] + bL[1]*x0)\n",
    "    print(\"Best:\", \"Quadratic\" if use_quad else \"Linear\", \" | y(50) =\", ypred)\n",
    "except Exception as e:\n",
    "    print(\"Place Smoking_and_Cancer.xlsx next to this notebook. Error:\", e)\n"
   ]
  },
  {
   "cell_type": "markdown",
   "id": "98ac1aec",
   "metadata": {},
   "source": [
    "## 2019 Exam — Assignment 7: SVD of 4×3 matrix"
   ]
  },
  {
   "cell_type": "code",
   "execution_count": null,
   "id": "b4d6f93e",
   "metadata": {},
   "outputs": [],
   "source": [
    "\n",
    "A = np.array([[2,5,4],\n",
    "              [6,3,0],\n",
    "              [6,3,0],\n",
    "              [2,5,4]], float)\n",
    "U,S,Vt = svd(A)\n",
    "print(\"S:\", S); print(\"Recon error:\", recon_err(A,U,S,Vt))\n"
   ]
  },
  {
   "cell_type": "markdown",
   "id": "6fc3b2b1",
   "metadata": {},
   "source": [
    "## 2019 Re-Exam — Assignment 3: Spaces & Solution count"
   ]
  },
  {
   "cell_type": "code",
   "execution_count": null,
   "id": "61604fbe",
   "metadata": {},
   "outputs": [],
   "source": [
    "\n",
    "import sympy as sp\n",
    "A = sp.Matrix([[ 1, -1, 3, 5],\n",
    "               [-1, -3, 1,-1],\n",
    "               [ 2,  6,-2, 2]])\n",
    "print(\"Nullspace:\", [np.array(v, float).flatten() for v in A.nullspace()])\n",
    "print(\"Column space:\", [np.array(v, float).flatten() for v in A.columnspace()])\n",
    "print(\"Row space:\", [np.array(v, float).flatten() for v in A.rowspace()])\n",
    "print(\"Nullity =\", len(A.nullspace()))\n"
   ]
  },
  {
   "cell_type": "markdown",
   "id": "91f4fe7d",
   "metadata": {},
   "source": [
    "## 2019 Re-Exam — Assignment 4: Determinant/cofactor & transforms"
   ]
  },
  {
   "cell_type": "code",
   "execution_count": null,
   "id": "5fb338be",
   "metadata": {},
   "outputs": [],
   "source": [
    "\n",
    "import sympy as sp\n",
    "a,b = sp.symbols('a b', real=True)\n",
    "A = sp.Matrix([[-6, a, -1,  3],\n",
    "               [ 2, 0,  3,  0],\n",
    "               [ 4, 5,  6,  0],\n",
    "               [ 8, b,  1, -4]])\n",
    "print(\"det(A) =\", sp.simplify(A.det()))\n"
   ]
  },
  {
   "cell_type": "markdown",
   "id": "6c1877dc",
   "metadata": {},
   "source": [
    "## 2019 Re-Exam — Assignment 5: Best approx among candidates"
   ]
  },
  {
   "cell_type": "code",
   "execution_count": null,
   "id": "0df024ad",
   "metadata": {},
   "outputs": [],
   "source": [
    "\n",
    "A = np.array([[2, 2, 1],\n",
    "              [2,-1, 4],\n",
    "              [0, 1,-1]], float)\n",
    "b = np.array([1,1,1], float)\n",
    "x1 = np.array([1,1,2], float); x2 = np.array([1,1,0], float)\n",
    "r1 = np.linalg.norm(A@x1 - b); r2 = np.linalg.norm(A@x2 - b)\n",
    "print(\"Resid x1:\", r1, \" | Resid x2:\", r2, \" -> Best:\", \"x1\" if r1<r2 else \"x2\")\n"
   ]
  },
  {
   "cell_type": "markdown",
   "id": "668f5c56",
   "metadata": {},
   "source": [
    "## 2019 Re-Exam — Assignment 6: Model selection on tiny dataset"
   ]
  },
  {
   "cell_type": "code",
   "execution_count": null,
   "id": "0cf250b4",
   "metadata": {},
   "outputs": [],
   "source": [
    "\n",
    "t = np.array([0,2,5,6], float)\n",
    "y = np.array([1,6,17,19], float)\n",
    "X1 = np.column_stack([np.ones_like(t), t**2])\n",
    "X2 = np.column_stack([t, t**2])\n",
    "X3 = np.column_stack([np.ones_like(t), t, t**2])\n",
    "for i,(name,X) in enumerate([(\"y1\",X1),(\"y2\",X2),(\"y3\",X3)], start=1):\n",
    "    b,_,sse,r2 = fit(X,y)\n",
    "    print(name, \"beta:\", b, \" SSE:\", sse, \" R2:\", r2)\n"
   ]
  },
  {
   "cell_type": "markdown",
   "id": "64026b42",
   "metadata": {},
   "source": [
    "## 2019 Re-Exam — Assignment 7: SVD + U-eigenvector check"
   ]
  },
  {
   "cell_type": "code",
   "execution_count": null,
   "id": "abe22323",
   "metadata": {},
   "outputs": [],
   "source": [
    "\n",
    "A = np.array([[ 9, 3, 3],\n",
    "              [-3, 9, 3]], float)\n",
    "U,S,Vt = svd(A)\n",
    "AAT = A @ A.T\n",
    "print(\"S:\", S)\n",
    "for i in range(U.shape[1]):\n",
    "    ui = U[:,i]\n",
    "    lhs = AAT @ ui\n",
    "    rhs = (S[i]**2)*ui if i < len(S) else np.zeros_like(ui)\n",
    "    print(f\"i={i+1}: ||lhs-rhs|| =\", np.linalg.norm(lhs - rhs))\n"
   ]
  },
  {
   "cell_type": "markdown",
   "id": "48486bea",
   "metadata": {},
   "source": [
    "## 2020 Exam (Spring) — Assignment 5: Diagonalize if possible"
   ]
  },
  {
   "cell_type": "code",
   "execution_count": null,
   "id": "530ef5da",
   "metadata": {},
   "outputs": [],
   "source": [
    "\n",
    "import sympy as sp, numpy as np\n",
    "def diag_try(M):\n",
    "    M = sp.Matrix(M)\n",
    "    evects = M.eigenvects()\n",
    "    cols = []\n",
    "    for lam, mult, basis in evects:\n",
    "        cols += basis\n",
    "    if len(cols) < M.shape[0]:\n",
    "        print(\"Not diagonalizable.\")\n",
    "        return\n",
    "    P = sp.Matrix.hstack(*cols); D = P.inv()*M*P\n",
    "    print(\"Diagonalizable. Eigenvalues:\", [ev[0] for ev in evects])\n",
    "A = np.array([[3,2,-2],[0,2,0],[0,1,3]], float)\n",
    "B = np.array([[-5,2,-1,3],[0,1,0,2],[0,0,1,2],[0,0,0,3]], float)\n",
    "print(\"A ->\"); diag_try(A)\n",
    "print(\"\\nB ->\"); diag_try(B)\n"
   ]
  },
  {
   "cell_type": "markdown",
   "id": "8111a6db",
   "metadata": {},
   "source": [
    "## 2020 Exam (Spring) — Assignment 6: Fit 3 models & velocity at t=4.5"
   ]
  },
  {
   "cell_type": "code",
   "execution_count": null,
   "id": "3ecf50cc",
   "metadata": {},
   "outputs": [],
   "source": [
    "\n",
    "t = np.arange(13, dtype=float)\n",
    "y = np.array([0.0,26.4,89.7,186.0,314.1,477.3,666.0,883.5,1141.2,1413.3,1715.1,1715.1,2427.6], float)\n",
    "\n",
    "Xc = np.column_stack([np.ones_like(t), t, t**2, t**3])\n",
    "Xc0= np.column_stack([t, t**2, t**3])\n",
    "Xq = np.column_stack([np.ones_like(t), t, t**2])\n",
    "\n",
    "results = []\n",
    "for name, X in [(\"cubic_with_c0\",Xc), (\"cubic_no_c0\",Xc0), (\"quadratic\",Xq)]:\n",
    "    b,_,sse,r2 = fit(X,y)\n",
    "    results.append((name,b,sse,r2)); print(name, \"SSE:\", sse, \"R2:\", r2)\n",
    "best = min(results, key=lambda z: z[2])\n",
    "print(\"\\nBest:\", best[0])\n",
    "t0 = 4.5; b = best[1]\n",
    "if best[0]==\"quadratic\":\n",
    "    d0,d1,d2 = b; vel = d1 + 2*d2*t0\n",
    "elif best[0]==\"cubic_no_c0\":\n",
    "    g1,g2,g3 = b; vel = g1 + 2*g2*t0 + 3*g3*t0**2\n",
    "else:\n",
    "    b0,b1,b2,b3 = b; vel = b1 + 2*b2*t0 + 3*b3*t0**2\n",
    "print(\"Velocity at t=4.5:\", vel)\n"
   ]
  },
  {
   "cell_type": "markdown",
   "id": "45b6535c",
   "metadata": {},
   "source": [
    "## 2020 Exam (Spring) — Assignment 7: SVD + subspaces"
   ]
  },
  {
   "cell_type": "code",
   "execution_count": null,
   "id": "49b1fb69",
   "metadata": {},
   "outputs": [],
   "source": [
    "\n",
    "A = np.array([[2,0,0],[0,2,1],[0,1,2],[0,0,0]], float)\n",
    "U,S,Vt = svd(A)\n",
    "m,n = A.shape\n",
    "Sigma = np.zeros((m,n)); np.fill_diagonal(Sigma, S)\n",
    "print(\"S:\", S, \" | recon err:\", np.linalg.norm(A - U@Sigma@Vt))\n",
    "# Bases from SVD\n",
    "r = np.sum(S>1e-10)\n",
    "print(\"rank:\", int(r))\n",
    "print(\"Col(A) = span of first r columns of U:\\n\", U[:, :r])\n",
    "print(\"Nul(A) = span of last n-r columns of V:\\n\", Vt[r:, :].T)\n",
    "print(\"Nul(A^T) = span of last m-r columns of U:\\n\", U[:, r:])\n"
   ]
  }
 ],
 "metadata": {
  "kernelspec": {
   "display_name": "Python 3",
   "language": "python",
   "name": "python3"
  },
  "language_info": {
   "codemirror_mode": {
    "name": "ipython",
    "version": 3
   },
   "file_extension": ".py",
   "mimetype": "text/x-python",
   "name": "python",
   "nbconvert_exporter": "python",
   "pygments_lexer": "ipython3",
   "version": "3.13.2"
  }
 },
 "nbformat": 4,
 "nbformat_minor": 5
}
