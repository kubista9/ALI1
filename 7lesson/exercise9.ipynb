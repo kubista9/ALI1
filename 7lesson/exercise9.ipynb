{
 "cells": [
  {
   "cell_type": "markdown",
   "id": "92f19977",
   "metadata": {},
   "source": [
    "# Orthogonal Columns Demo\n",
    "This notebook extracts matrix $A$ from the exercise, computes $A^\\top A$ to check orthogonality, and uses QR decomposition to obtain an orthonormal basis for the columns."
   ]
  },
  {
   "cell_type": "code",
   "execution_count": 2,
   "id": "12aee8e3",
   "metadata": {},
   "outputs": [
    {
     "data": {
      "text/plain": [
       "array([[-6, -3,  6,  1],\n",
       "       [-1,  2,  1, -6],\n",
       "       [ 3,  6,  3, -2],\n",
       "       [ 6, -3,  6, -1],\n",
       "       [ 2, -1,  2,  3],\n",
       "       [-3,  6,  3,  2],\n",
       "       [-2, -1,  2, -3],\n",
       "       [ 1,  2,  1,  6]])"
      ]
     },
     "execution_count": 2,
     "metadata": {},
     "output_type": "execute_result"
    }
   ],
   "source": [
    "import numpy as np\n",
    "\n",
    "A = np.array([\n",
    "    [-6, -3,  6,  1],\n",
    "    [-1,  2,  1, -6],\n",
    "    [ 3,  6,  3, -2],\n",
    "    [ 6, -3,  6, -1],\n",
    "    [ 2, -1,  2,  3],\n",
    "    [-3,  6,  3,  2],\n",
    "    [-2, -1,  2, -3],\n",
    "    [ 1,  2,  1,  6]\n",
    "])\n",
    "A"
   ]
  },
  {
   "cell_type": "code",
   "execution_count": 3,
   "id": "bdc9d09a",
   "metadata": {},
   "outputs": [
    {
     "data": {
      "text/plain": [
       "array([[100,   0,   0,   0],\n",
       "       [  0, 100,   0,   0],\n",
       "       [  0,   0, 100,   0],\n",
       "       [  0,   0,   0, 100]])"
      ]
     },
     "execution_count": 3,
     "metadata": {},
     "output_type": "execute_result"
    }
   ],
   "source": [
    "# Compute A^T A (Gram matrix). If columns of A are orthogonal, this should be diagonal.\n",
    "Gram = A.T @ A\n",
    "Gram"
   ]
  },
  {
   "cell_type": "code",
   "execution_count": 4,
   "id": "a435adf9",
   "metadata": {},
   "outputs": [
    {
     "data": {
      "text/plain": [
       "(array([[-0.6,  0.3, -0.6,  0.1],\n",
       "        [-0.1, -0.2, -0.1, -0.6],\n",
       "        [ 0.3, -0.6, -0.3, -0.2],\n",
       "        [ 0.6,  0.3, -0.6, -0.1],\n",
       "        [ 0.2,  0.1, -0.2,  0.3],\n",
       "        [-0.3, -0.6, -0.3,  0.2],\n",
       "        [-0.2,  0.1, -0.2, -0.3],\n",
       "        [ 0.1, -0.2, -0.1,  0.6]]),\n",
       " array([[ 1.00000000e+01,  1.66533454e-16, -3.33066907e-16,\n",
       "         -5.55111512e-17],\n",
       "        [ 0.00000000e+00, -1.00000000e+01,  8.67361738e-16,\n",
       "          1.11022302e-16],\n",
       "        [ 0.00000000e+00,  0.00000000e+00, -1.00000000e+01,\n",
       "          1.55621005e-17],\n",
       "        [ 0.00000000e+00,  0.00000000e+00,  0.00000000e+00,\n",
       "          1.00000000e+01]]))"
      ]
     },
     "execution_count": 4,
     "metadata": {},
     "output_type": "execute_result"
    }
   ],
   "source": [
    "# QR decomposition to obtain an orthonormal basis for the columns of A\n",
    "Q, R = np.linalg.qr(A)\n",
    "Q, R"
   ]
  },
  {
   "cell_type": "code",
   "execution_count": 5,
   "id": "17cefa55",
   "metadata": {},
   "outputs": [
    {
     "data": {
      "text/plain": [
       "True"
      ]
     },
     "execution_count": 5,
     "metadata": {},
     "output_type": "execute_result"
    }
   ],
   "source": [
    "# Verify orthonormality: Q^T Q should be the identity matrix\n",
    "np.allclose(Q.T @ Q, np.eye(Q.shape[1]))"
   ]
  }
 ],
 "metadata": {
  "kernelspec": {
   "display_name": ".venv_new",
   "language": "python",
   "name": "python3"
  },
  "language_info": {
   "codemirror_mode": {
    "name": "ipython",
    "version": 3
   },
   "file_extension": ".py",
   "mimetype": "text/x-python",
   "name": "python",
   "nbconvert_exporter": "python",
   "pygments_lexer": "ipython3",
   "version": "3.13.2"
  }
 },
 "nbformat": 4,
 "nbformat_minor": 5
}
