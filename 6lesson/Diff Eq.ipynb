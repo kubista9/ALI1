{
 "cells": [
  {
   "cell_type": "code",
   "execution_count": 2,
   "metadata": {},
   "outputs": [],
   "source": [
    "import sympy as sp\n",
    "from scipy import *\n",
    "from sympy import *\n",
    "init_printing()\n",
    "from IPython.display import display, Latex, HTML, Math\n",
    "import numpy as np\n",
    "import pandas as pd\n",
    "from sympy import Rational as R"
   ]
  },
  {
   "cell_type": "markdown",
   "metadata": {},
   "source": [
    "### Exercise\n",
    "\n",
    "In total, 20 litres enter A, which means 20 must leave A from pipe c. If 220 enters B, 8 must leave, 5 from b and 15 from d. We get:"
   ]
  },
  {
   "cell_type": "code",
   "execution_count": 11,
   "metadata": {},
   "outputs": [
    {
     "data": {
      "text/latex": [
       "$\\displaystyle A = \\left[\\begin{matrix}- \\frac{3}{2} & \\frac{1}{2}\\\\1 & -1\\end{matrix}\\right]$"
      ],
      "text/plain": [
       "<IPython.core.display.Math object>"
      ]
     },
     "metadata": {},
     "output_type": "display_data"
    }
   ],
   "source": [
    "# We translate the problem to a matrix problem\n",
    "\n",
    "A = Matrix([[-R(3,2), R(1,2)],[R(1,1), -R(1,1)]])\n",
    "display(Math(r'A = ' + latex(A)))"
   ]
  },
  {
   "cell_type": "code",
   "execution_count": 12,
   "metadata": {},
   "outputs": [
    {
     "data": {
      "text/latex": [
       "$\\displaystyle \\lambda_0 =-2\\approx-2$"
      ],
      "text/plain": [
       "<IPython.core.display.Math object>"
      ]
     },
     "metadata": {},
     "output_type": "display_data"
    },
    {
     "data": {
      "text/latex": [
       "$\\displaystyle \\lambda_1 =- \\frac{1}{2}\\approx-0.5$"
      ],
      "text/plain": [
       "<IPython.core.display.Math object>"
      ]
     },
     "metadata": {},
     "output_type": "display_data"
    },
    {
     "data": {
      "text/latex": [
       "$\\displaystyle v_0 = \\left[\\begin{matrix}-1\\\\1\\end{matrix}\\right]=\\left[\\begin{matrix}-1.0\\\\1.0\\end{matrix}\\right]$"
      ],
      "text/plain": [
       "<IPython.core.display.Math object>"
      ]
     },
     "metadata": {},
     "output_type": "display_data"
    },
    {
     "data": {
      "text/latex": [
       "$\\displaystyle v_1 = \\left[\\begin{matrix}\\frac{1}{2}\\\\1\\end{matrix}\\right]=\\left[\\begin{matrix}0.5\\\\1.0\\end{matrix}\\right]$"
      ],
      "text/plain": [
       "<IPython.core.display.Math object>"
      ]
     },
     "metadata": {},
     "output_type": "display_data"
    }
   ],
   "source": [
    "# We find the eigenvalues and the corresponding eigenspaces.\n",
    "l = symbols('l')\n",
    "l1, l2 = solve(det(A-l*eye(np.shape(A)[0])))\n",
    "display(Math(r'\\lambda_0 =' +latex(l1) + r'\\approx' + latex(round(l1, 2))))\n",
    "display(Math(r'\\lambda_1 =' +latex(l2) + r'\\approx' + latex(round(l2, 2))))\n",
    "\n",
    "v1 = (A-l1*eye(np.shape(A)[0])).nullspace()[0]\n",
    "v2 = (A-l2*eye(np.shape(A)[0])).nullspace()[0]\n",
    "display(Math(r'v_0 = '+ latex(v1) + r'=' + latex(v1.evalf(4))))\n",
    "display(Math(r'v_1 = '+ latex(v2) + r'=' + latex(v2.evalf(4))))"
   ]
  },
  {
   "cell_type": "code",
   "execution_count": 13,
   "metadata": {},
   "outputs": [
    {
     "data": {
      "image/png": "[encoded data removed]",
      "text/latex": [
       "$\\displaystyle \\left[\\begin{matrix}1 & 0 & -2\\\\0 & 1 & 6\\end{matrix}\\right]$"
      ],
      "text/plain": [
       "⎡1  0  -2⎤\n",
       "⎢        ⎥\n",
       "⎣0  1  6 ⎦"
      ]
     },
     "execution_count": 13,
     "metadata": {},
     "output_type": "execute_result"
    }
   ],
   "source": [
    "y0 = Matrix([5, 4])\n",
    "# To solve the system we form the following augmented matrix and solve. The c's will be in the last column:\n",
    "rref = v1.row_join(v2).row_join(y0).rref()[0]\n",
    "#rref.applyfunc(lambda x: round(x, 2)) # this I can use when the values are horrible!!\n",
    "rref"
   ]
  }
 ],
 "metadata": {
  "kernelspec": {
   "display_name": "Python 3",
   "language": "python",
   "name": "python3"
  },
  "language_info": {
   "codemirror_mode": {
    "name": "ipython",
    "version": 3
   },
   "file_extension": ".py",
   "mimetype": "text/x-python",
   "name": "python",
   "nbconvert_exporter": "python",
   "pygments_lexer": "ipython3",
   "version": "3.7.6"
  }
 },
 "nbformat": 4,
 "nbformat_minor": 4
}
