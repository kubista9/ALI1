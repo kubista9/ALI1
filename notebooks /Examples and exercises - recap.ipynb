{
 "cells": [
  {
   "cell_type": "code",
   "execution_count": 2,
   "metadata": {},
   "outputs": [],
   "source": [
    "from sympy import *\n",
    "init_printing()"
   ]
  },
  {
   "cell_type": "code",
   "execution_count": 13,
   "metadata": {},
   "outputs": [
    {
     "data": {
      "text/plain": [
       "True"
      ]
     },
     "execution_count": 13,
     "metadata": {},
     "output_type": "execute_result"
    }
   ],
   "source": [
    "A=Matrix([[1,-3,2],[3,-8,8],[0,1,2],[1,0,8]])\n",
    "b=Matrix([[1],[6],[3],[10]])\n",
    "\n",
    "x = Matrix([[2],[1],[1]])\n",
    "x2 = Matrix([10, 3, 0])\n",
    "\n",
    "A*x2 == b"
   ]
  },
  {
   "cell_type": "code",
   "execution_count": 16,
   "metadata": {},
   "outputs": [],
   "source": [
    "# Exercise 3 (3.1.43)\n",
    "\n",
    "A = randMatrix(5,5, seed=42)\n",
    "B = randMatrix(5,5, seed=49)"
   ]
  },
  {
   "cell_type": "code",
   "execution_count": 17,
   "metadata": {},
   "outputs": [
    {
     "data": {
      "image/png": "[encoded data removed]",
      "text/latex": [
       "$\\displaystyle \\left( 86424868, \\  -1506548382, \\  3209672706, \\  -1420123514, \\  4629796220\\right)$"
      ],
      "text/plain": [
       "(86424868, -1506548382, 3209672706, -1420123514, 4629796220)"
      ]
     },
     "execution_count": 17,
     "metadata": {},
     "output_type": "execute_result"
    }
   ],
   "source": [
    "A.det(), B.det(), (A+B).det(), A.det() + B.det(), (A+B).det() - (A.det() + B.det())"
   ]
  },
  {
   "cell_type": "markdown",
   "metadata": {},
   "source": [
    "#### Vector Space Examples"
   ]
  },
  {
   "cell_type": "code",
   "execution_count": 42,
   "metadata": {},
   "outputs": [
    {
     "data": {
      "image/png": "[encoded data removed]",
      "text/latex": [
       "$\\displaystyle \\left( \\left[\\begin{matrix}2 & 4 & -2 & -4\\\\-2 & -5 & 7 & 14\\\\3 & 7 & -8 & -16\\end{matrix}\\right], \\  \\left[\\begin{matrix}3\\\\-2\\\\-1\\\\0\\end{matrix}\\right], \\  \\left[\\begin{matrix}3\\\\-1\\\\3\\end{matrix}\\right]\\right)$"
      ],
      "text/plain": [
       "⎛                   ⎡3 ⎤      ⎞\n",
       "⎜⎡2   4   -2  -4 ⎤  ⎢  ⎥  ⎡3 ⎤⎟\n",
       "⎜⎢               ⎥  ⎢-2⎥  ⎢  ⎥⎟\n",
       "⎜⎢-2  -5  7   14 ⎥, ⎢  ⎥, ⎢-1⎥⎟\n",
       "⎜⎢               ⎥  ⎢-1⎥  ⎢  ⎥⎟\n",
       "⎜⎣3   7   -8  -16⎦  ⎢  ⎥  ⎣3 ⎦⎟\n",
       "⎝                   ⎣0 ⎦      ⎠"
      ]
     },
     "execution_count": 42,
     "metadata": {},
     "output_type": "execute_result"
    }
   ],
   "source": [
    "A = Matrix([[2,4,-2,-4],[-2,-5,7,14],[3,7,-8,-16]])\n",
    "\n",
    "u = Matrix([[3],[-2],[-1],[0]])\n",
    "v=Matrix([[3],[-1],[3]])\n",
    "\n",
    "A, u, v"
   ]
  },
  {
   "cell_type": "code",
   "execution_count": 43,
   "metadata": {},
   "outputs": [
    {
     "data": {
      "image/png": "[encoded data removed]",
      "text/latex": [
       "$\\displaystyle \\left( \\left[\\begin{matrix}1 & 0 & 9 & 18 & 0\\\\0 & 1 & -5 & -10 & 0\\\\0 & 0 & 0 & 0 & 1\\end{matrix}\\right], \\  \\left( 0, \\  1, \\  4\\right)\\right)$"
      ],
      "text/plain": [
       "⎛⎡1  0  9   18   0⎤           ⎞\n",
       "⎜⎢                ⎥           ⎟\n",
       "⎜⎢0  1  -5  -10  0⎥, (0, 1, 4)⎟\n",
       "⎜⎢                ⎥           ⎟\n",
       "⎝⎣0  0  0    0   1⎦           ⎠"
      ]
     },
     "execution_count": 43,
     "metadata": {},
     "output_type": "execute_result"
    }
   ],
   "source": [
    "Matrix.hstack(A,v).rref()"
   ]
  },
  {
   "cell_type": "code",
   "execution_count": 5,
   "metadata": {},
   "outputs": [],
   "source": [
    "A = Matrix([[2, 1, -8], [1, 2,2]])"
   ]
  },
  {
   "cell_type": "code",
   "execution_count": 6,
   "metadata": {},
   "outputs": [
    {
     "data": {
      "image/png": "[encoded data removed]",
      "text/latex": [
       "$\\displaystyle \\left[\\begin{matrix}2 & 1 & -8\\\\0 & 1.5 & 6.0\\end{matrix}\\right]$"
      ],
      "text/plain": [
       "⎡2   1   -8 ⎤\n",
       "⎢           ⎥\n",
       "⎣0  1.5  6.0⎦"
      ]
     },
     "execution_count": 6,
     "metadata": {},
     "output_type": "execute_result"
    }
   ],
   "source": [
    "A[1,:] = A[1,:] - 1/2 * A[0,:]\n",
    "A"
   ]
  },
  {
   "cell_type": "code",
   "execution_count": 7,
   "metadata": {},
   "outputs": [
    {
     "data": {
      "image/png": "[encoded data removed]",
      "text/latex": [
       "$\\displaystyle \\left[\\begin{matrix}2 & 1 & -8\\\\0 & 1.0 & 4.0\\end{matrix}\\right]$"
      ],
      "text/plain": [
       "⎡2   1   -8 ⎤\n",
       "⎢           ⎥\n",
       "⎣0  1.0  4.0⎦"
      ]
     },
     "execution_count": 7,
     "metadata": {},
     "output_type": "execute_result"
    }
   ],
   "source": [
    "A[1,:] = 2/3 * A[1,:]\n",
    "A"
   ]
  }
 ],
 "metadata": {
  "kernelspec": {
   "display_name": ".venv",
   "language": "python",
   "name": "python3"
  },
  "language_info": {
   "codemirror_mode": {
    "name": "ipython",
    "version": 3
   },
   "file_extension": ".py",
   "mimetype": "text/x-python",
   "name": "python",
   "nbconvert_exporter": "python",
   "pygments_lexer": "ipython3",
   "version": "3.13.5"
  }
 },
 "nbformat": 4,
 "nbformat_minor": 2
}
