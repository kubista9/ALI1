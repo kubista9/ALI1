{
 "cells": [
  {
   "cell_type": "code",
   "execution_count": 16,
   "metadata": {},
   "outputs": [],
   "source": [
    "from sympy import *\n",
    "from IPython.display import display\n",
    "init_printing()"
   ]
  },
  {
   "cell_type": "code",
   "execution_count": 14,
   "metadata": {},
   "outputs": [
    {
     "data": {
      "image/png": "[encoded data removed]",
      "text/latex": [
       "$\\displaystyle \\left( \\left[\\begin{matrix}4 & 3 & 2\\\\3 & 3 & 2\\\\2 & 2 & 2\\end{matrix}\\right], \\  \\left[\\begin{matrix}1 & 0 & 0\\\\0 & 1 & 0\\\\0 & 0 & 1\\\\0 & 0 & 0\\end{matrix}\\right]\\right)$"
      ],
      "text/plain": [
       "⎛           ⎡1  0  0⎤⎞\n",
       "⎜⎡4  3  2⎤  ⎢       ⎥⎟\n",
       "⎜⎢       ⎥  ⎢0  1  0⎥⎟\n",
       "⎜⎢3  3  2⎥, ⎢       ⎥⎟\n",
       "⎜⎢       ⎥  ⎢0  0  1⎥⎟\n",
       "⎜⎣2  2  2⎦  ⎢       ⎥⎟\n",
       "⎝           ⎣0  0  0⎦⎠"
      ]
     },
     "execution_count": 14,
     "metadata": {},
     "output_type": "execute_result"
    }
   ],
   "source": [
    "# Ex\n",
    "x1 = Matrix([[1],[1],[1],[1]])\n",
    "x2 = Matrix([[0],[1],[1],[1]])\n",
    "x3 = Matrix([[0],[0],[1],[1]])\n",
    "\n",
    "U = Matrix.hstack(x1, x2, x3)\n",
    "U.T * U, U.rref()[0]"
   ]
  },
  {
   "cell_type": "code",
   "execution_count": 15,
   "metadata": {},
   "outputs": [
    {
     "data": {
      "image/png": "[encoded data removed]",
      "text/latex": [
       "$\\displaystyle \\left[\\begin{matrix}4 & 0 & 0\\\\0 & \\frac{3}{4} & 0\\\\0 & 0 & \\frac{2}{3}\\end{matrix}\\right]$"
      ],
      "text/plain": [
       "⎡4   0    0 ⎤\n",
       "⎢           ⎥\n",
       "⎢0  3/4   0 ⎥\n",
       "⎢           ⎥\n",
       "⎣0   0   2/3⎦"
      ]
     },
     "execution_count": 15,
     "metadata": {},
     "output_type": "execute_result"
    }
   ],
   "source": [
    "v1 = x1\n",
    "v2 = x2 - x2.project(v1)\n",
    "v3 = x3 - x3.project(v1) - x3.project(v2)\n",
    "V = Matrix.hstack(v1, v2, v3)\n",
    "V.T * V"
   ]
  },
  {
   "cell_type": "code",
   "execution_count": 17,
   "metadata": {},
   "outputs": [
    {
     "data": {
      "image/png": "[encoded data removed]",
      "text/latex": [
       "$\\displaystyle \\left[ \\left[\\begin{matrix}1\\\\1\\\\1\\\\1\\end{matrix}\\right], \\  \\left[\\begin{matrix}- \\frac{3}{4}\\\\\\frac{1}{4}\\\\\\frac{1}{4}\\\\\\frac{1}{4}\\end{matrix}\\right], \\  \\left[\\begin{matrix}0\\\\- \\frac{2}{3}\\\\\\frac{1}{3}\\\\\\frac{1}{3}\\end{matrix}\\right]\\right]$"
      ],
      "text/plain": [
       "⎡⎡1⎤  ⎡-3/4⎤  ⎡ 0  ⎤⎤\n",
       "⎢⎢ ⎥  ⎢    ⎥  ⎢    ⎥⎥\n",
       "⎢⎢1⎥  ⎢1/4 ⎥  ⎢-2/3⎥⎥\n",
       "⎢⎢ ⎥, ⎢    ⎥, ⎢    ⎥⎥\n",
       "⎢⎢1⎥  ⎢1/4 ⎥  ⎢1/3 ⎥⎥\n",
       "⎢⎢ ⎥  ⎢    ⎥  ⎢    ⎥⎥\n",
       "⎣⎣1⎦  ⎣1/4 ⎦  ⎣1/3 ⎦⎦"
      ]
     },
     "metadata": {},
     "output_type": "display_data"
    },
    {
     "data": {
      "image/png": "[encoded data removed]",
      "text/latex": [
       "$\\displaystyle \\left[ \\left[\\begin{matrix}\\frac{1}{2}\\\\\\frac{1}{2}\\\\\\frac{1}{2}\\\\\\frac{1}{2}\\end{matrix}\\right], \\  \\left[\\begin{matrix}- \\frac{\\sqrt{3}}{2}\\\\\\frac{\\sqrt{3}}{6}\\\\\\frac{\\sqrt{3}}{6}\\\\\\frac{\\sqrt{3}}{6}\\end{matrix}\\right], \\  \\left[\\begin{matrix}0\\\\- \\frac{\\sqrt{6}}{3}\\\\\\frac{\\sqrt{6}}{6}\\\\\\frac{\\sqrt{6}}{6}\\end{matrix}\\right]\\right]$"
      ],
      "text/plain": [
       "⎡       ⎡-√3 ⎤        ⎤\n",
       "⎢       ⎢────⎥  ⎡ 0  ⎤⎥\n",
       "⎢       ⎢ 2  ⎥  ⎢    ⎥⎥\n",
       "⎢       ⎢    ⎥  ⎢-√6 ⎥⎥\n",
       "⎢⎡1/2⎤  ⎢ √3 ⎥  ⎢────⎥⎥\n",
       "⎢⎢   ⎥  ⎢ ── ⎥  ⎢ 3  ⎥⎥\n",
       "⎢⎢1/2⎥  ⎢ 6  ⎥  ⎢    ⎥⎥\n",
       "⎢⎢   ⎥, ⎢    ⎥, ⎢ √6 ⎥⎥\n",
       "⎢⎢1/2⎥  ⎢ √3 ⎥  ⎢ ── ⎥⎥\n",
       "⎢⎢   ⎥  ⎢ ── ⎥  ⎢ 6  ⎥⎥\n",
       "⎢⎣1/2⎦  ⎢ 6  ⎥  ⎢    ⎥⎥\n",
       "⎢       ⎢    ⎥  ⎢ √6 ⎥⎥\n",
       "⎢       ⎢ √3 ⎥  ⎢ ── ⎥⎥\n",
       "⎢       ⎢ ── ⎥  ⎣ 6  ⎦⎥\n",
       "⎣       ⎣ 6  ⎦        ⎦"
      ]
     },
     "metadata": {},
     "output_type": "display_data"
    }
   ],
   "source": [
    "# Orthogonal\n",
    "display(GramSchmidt((x1, x2, x3)))\n",
    "\n",
    "# Orthonormal\n",
    "display(GramSchmidt((x1, x2, x3), True))"
   ]
  },
  {
   "cell_type": "code",
   "execution_count": 19,
   "metadata": {},
   "outputs": [],
   "source": [
    "# Ex\n",
    "u1 = Matrix([[1],[2],[1],[1]])\n",
    "u2 = Matrix([[-2],[1],[-1],[1]])\n",
    "u3 = Matrix([[1],[1],[-2],[-1]])\n",
    "u4 = Matrix([[-1],[1],[1],[-1]])\n",
    "\n",
    "v = Matrix([[4],[2],[-1],[0]])\n",
    "\n",
    "U = Matrix.hstack(u1, u2, u3, u4)\n",
    "U.T * U\n",
    "U.rref()\n",
    "u1, u2, u3, u4 = GramSchmidt((u1, u2, u3, u4))"
   ]
  },
  {
   "cell_type": "code",
   "execution_count": 6,
   "metadata": {},
   "outputs": [
    {
     "data": {
      "text/plain": [
       "True"
      ]
     },
     "execution_count": 6,
     "metadata": {},
     "output_type": "execute_result"
    }
   ],
   "source": [
    "z1 = v.project(u1) + v.project(u2)\n",
    "z2 = v.project(u3) + v.project(u4)\n",
    "\n",
    "v == z1 + z2"
   ]
  },
  {
   "cell_type": "code",
   "execution_count": 7,
   "metadata": {},
   "outputs": [
    {
     "data": {
      "image/png": "[encoded data removed]",
      "text/latex": [
       "$\\displaystyle 1.13389341902768$"
      ],
      "text/plain": [
       "1.1338934190276817"
      ]
     },
     "execution_count": 7,
     "metadata": {},
     "output_type": "execute_result"
    }
   ],
   "source": [
    "vhat = v.project(u1) + v.project(u2) + v.project(u3)\n",
    "dist = (v-vhat).norm()\n",
    "float(dist)"
   ]
  }
 ],
 "metadata": {
  "kernelspec": {
   "display_name": ".venv",
   "language": "python",
   "name": "python3"
  },
  "language_info": {
   "codemirror_mode": {
    "name": "ipython",
    "version": 3
   },
   "file_extension": ".py",
   "mimetype": "text/x-python",
   "name": "python",
   "nbconvert_exporter": "python",
   "pygments_lexer": "ipython3",
   "version": "3.13.5"
  },
  "orig_nbformat": 4
 },
 "nbformat": 4,
 "nbformat_minor": 2
}
