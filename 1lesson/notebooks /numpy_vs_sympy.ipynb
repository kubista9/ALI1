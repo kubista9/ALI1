{
 "cells": [
  {
   "cell_type": "markdown",
   "id": "51a3bff2",
   "metadata": {},
   "source": [
    "# Comparing NumPy and SymPy for Basic Linear Algebra\n",
    "\n",
    "This notebook will introduce you to using **NumPy** and **SymPy** for basic linear algebra operations in Python. While both libraries offer functionalities for linear algebra, they serve different purposes:\n",
    "\n",
    "- **NumPy** is optimized for numerical computations with arrays and matrices, focusing on performance and efficiency.\n",
    "- **SymPy** is designed for symbolic mathematics, allowing for exact computations and manipulations of mathematical expressions.\n",
    "\n",
    "Let's explore how both libraries handle basic linear algebra tasks."
   ]
  },
  {
   "cell_type": "markdown",
   "id": "0c48186d",
   "metadata": {},
   "source": [
    "## Table of Contents\n",
    "\n",
    "1. [Importing Libraries](#import)\n",
    "2. [Vector Operations](#vectors)\n",
    "    - Creating Vectors\n",
    "    - Vector Addition\n",
    "    - Scalar Multiplication\n",
    "    - Dot Product\n",
    "3. [Matrix Operations](#matrices)\n",
    "    - Creating Matrices\n",
    "    - Matrix Addition\n",
    "    - Matrix Multiplication\n",
    "    - Transpose and Inverse\n",
    "4. [Solving Linear Systems](#solving)\n",
    "    - Numerical Solution with NumPy\n",
    "    - Symbolic Solution with SymPy\n",
    "5. [Eigenvalues and Eigenvectors](#eigen)\n",
    "    - Numerical Computation with NumPy\n",
    "    - Symbolic Computation with SymPy\n",
    "6. [When to Use NumPy vs. SymPy](#conclusion)"
   ]
  },
  {
   "cell_type": "markdown",
   "id": "5fcb5be1",
   "metadata": {},
   "source": [
    "---\n",
    "\n",
    "<a id='import'></a>\n",
    "## 1. Importing Libraries\n",
    "\n",
    "First, let's import the necessary libraries."
   ]
  },
  {
   "cell_type": "code",
   "execution_count": 1,
   "id": "a59309c1",
   "metadata": {},
   "outputs": [],
   "source": [
    "import numpy as np\n",
    "import sympy as sp\n",
    "from sympy import Matrix, symbols\n",
    "sp.init_printing()  # For better display in Jupyter notebooks"
   ]
  },
  {
   "cell_type": "markdown",
   "id": "28d6c93e",
   "metadata": {},
   "source": [
    "---\n",
    "\n",
    "<a id='vectors'></a>\n",
    "## 2. Vector Operations\n",
    "\n",
    "### Creating Vectors\n",
    "\n",
    "**NumPy:**"
   ]
  },
  {
   "cell_type": "code",
   "execution_count": 2,
   "id": "bca3876e",
   "metadata": {},
   "outputs": [
    {
     "name": "stdout",
     "output_type": "stream",
     "text": [
      "NumPy Vector: [1 2 3]\n"
     ]
    }
   ],
   "source": [
    "# NumPy vector\n",
    "v_np = np.array([1, 2, 3])\n",
    "print(\"NumPy Vector:\", v_np)"
   ]
  },
  {
   "cell_type": "markdown",
   "id": "828b6690",
   "metadata": {},
   "source": [
    "**SymPy:**"
   ]
  },
  {
   "cell_type": "code",
   "execution_count": 3,
   "id": "9803e813",
   "metadata": {},
   "outputs": [
    {
     "data": {
      "image/png": "[encoded data removed]",
      "text/latex": [
       "$\\displaystyle \\left[\\begin{matrix}1\\\\2\\\\3\\end{matrix}\\right]$"
      ],
      "text/plain": [
       "⎡1⎤\n",
       "⎢ ⎥\n",
       "⎢2⎥\n",
       "⎢ ⎥\n",
       "⎣3⎦"
      ]
     },
     "execution_count": 3,
     "metadata": {},
     "output_type": "execute_result"
    }
   ],
   "source": [
    "# SymPy vector\n",
    "v_sp = Matrix([1, 2, 3])\n",
    "v_sp"
   ]
  },
  {
   "cell_type": "markdown",
   "id": "3128b9ca",
   "metadata": {},
   "source": [
    "### Vector Addition\n",
    "\n",
    "**NumPy:**"
   ]
  },
  {
   "cell_type": "code",
   "execution_count": 4,
   "id": "1f478f38",
   "metadata": {},
   "outputs": [
    {
     "name": "stdout",
     "output_type": "stream",
     "text": [
      "NumPy Vector Addition: [5 7 9]\n"
     ]
    }
   ],
   "source": [
    "u_np = np.array([4, 5, 6])\n",
    "sum_np = v_np + u_np\n",
    "print(\"NumPy Vector Addition:\", sum_np)"
   ]
  },
  {
   "cell_type": "markdown",
   "id": "26420bfa",
   "metadata": {},
   "source": [
    "**SymPy:**"
   ]
  },
  {
   "cell_type": "code",
   "execution_count": 5,
   "id": "e4ed4326",
   "metadata": {},
   "outputs": [
    {
     "data": {
      "image/png": "[encoded data removed]",
      "text/latex": [
       "$\\displaystyle \\left[\\begin{matrix}5\\\\7\\\\9\\end{matrix}\\right]$"
      ],
      "text/plain": [
       "⎡5⎤\n",
       "⎢ ⎥\n",
       "⎢7⎥\n",
       "⎢ ⎥\n",
       "⎣9⎦"
      ]
     },
     "execution_count": 5,
     "metadata": {},
     "output_type": "execute_result"
    }
   ],
   "source": [
    "u_sp = Matrix([4, 5, 6])\n",
    "sum_sp = v_sp + u_sp\n",
    "sum_sp"
   ]
  },
  {
   "cell_type": "markdown",
   "id": "cfae546e",
   "metadata": {},
   "source": [
    "### Scalar Multiplication\n",
    "\n",
    "**NumPy:**"
   ]
  },
  {
   "cell_type": "code",
   "execution_count": 6,
   "id": "f17d0932",
   "metadata": {},
   "outputs": [
    {
     "name": "stdout",
     "output_type": "stream",
     "text": [
      "NumPy Scalar Multiplication: [3 6 9]\n"
     ]
    }
   ],
   "source": [
    "scalar_np = 3 * v_np\n",
    "print(\"NumPy Scalar Multiplication:\", scalar_np)"
   ]
  },
  {
   "cell_type": "markdown",
   "id": "f3575b54",
   "metadata": {},
   "source": [
    "**SymPy:**"
   ]
  },
  {
   "cell_type": "code",
   "execution_count": 7,
   "id": "4b1cda5d",
   "metadata": {},
   "outputs": [
    {
     "data": {
      "image/png": "[encoded data removed]",
      "text/latex": [
       "$\\displaystyle \\left[\\begin{matrix}3\\\\6\\\\9\\end{matrix}\\right]$"
      ],
      "text/plain": [
       "⎡3⎤\n",
       "⎢ ⎥\n",
       "⎢6⎥\n",
       "⎢ ⎥\n",
       "⎣9⎦"
      ]
     },
     "execution_count": 7,
     "metadata": {},
     "output_type": "execute_result"
    }
   ],
   "source": [
    "scalar_sp = 3 * v_sp\n",
    "scalar_sp"
   ]
  },
  {
   "cell_type": "markdown",
   "id": "146fb549",
   "metadata": {},
   "source": [
    "### Dot Product\n",
    "\n",
    "**NumPy:**"
   ]
  },
  {
   "cell_type": "code",
   "execution_count": 8,
   "id": "c94fbcd4",
   "metadata": {},
   "outputs": [
    {
     "name": "stdout",
     "output_type": "stream",
     "text": [
      "NumPy Dot Product: 32\n"
     ]
    }
   ],
   "source": [
    "dot_np = np.dot(v_np, u_np)\n",
    "print(\"NumPy Dot Product:\", dot_np)"
   ]
  },
  {
   "cell_type": "markdown",
   "id": "1e7e3e11",
   "metadata": {},
   "source": [
    "**SymPy:**"
   ]
  },
  {
   "cell_type": "code",
   "execution_count": 9,
   "id": "5b157e23",
   "metadata": {},
   "outputs": [
    {
     "data": {
      "image/png": "[encoded data removed]",
      "text/latex": [
       "$\\displaystyle 32$"
      ],
      "text/plain": [
       "32"
      ]
     },
     "execution_count": 9,
     "metadata": {},
     "output_type": "execute_result"
    }
   ],
   "source": [
    "dot_sp = v_sp.dot(u_sp)\n",
    "dot_sp"
   ]
  },
  {
   "cell_type": "markdown",
   "id": "b6b68f24",
   "metadata": {},
   "source": [
    "---\n",
    "\n",
    "<a id='matrices'></a>\n",
    "## 3. Matrix Operations\n",
    "\n",
    "### Creating Matrices\n",
    "\n",
    "**NumPy:**"
   ]
  },
  {
   "cell_type": "code",
   "execution_count": 10,
   "id": "7ad72931",
   "metadata": {},
   "outputs": [
    {
     "name": "stdout",
     "output_type": "stream",
     "text": [
      "NumPy Matrix A:\n",
      " [[1 2]\n",
      " [3 4]]\n"
     ]
    }
   ],
   "source": [
    "# NumPy matrix\n",
    "A_np = np.array([[1, 2], [3, 4]])\n",
    "print(\"NumPy Matrix A:\\n\", A_np)"
   ]
  },
  {
   "cell_type": "markdown",
   "id": "4e684f6c",
   "metadata": {},
   "source": [
    "**SymPy:**"
   ]
  },
  {
   "cell_type": "code",
   "execution_count": 11,
   "id": "db47d38a",
   "metadata": {},
   "outputs": [
    {
     "data": {
      "image/png": "[encoded data removed]",
      "text/latex": [
       "$\\displaystyle \\left[\\begin{matrix}1 & 2\\\\3 & 4\\end{matrix}\\right]$"
      ],
      "text/plain": [
       "⎡1  2⎤\n",
       "⎢    ⎥\n",
       "⎣3  4⎦"
      ]
     },
     "execution_count": 11,
     "metadata": {},
     "output_type": "execute_result"
    }
   ],
   "source": [
    "# SymPy matrix\n",
    "A_sp = Matrix([[1, 2], [3, 4]])\n",
    "A_sp"
   ]
  },
  {
   "cell_type": "markdown",
   "id": "2d7a6c28",
   "metadata": {},
   "source": [
    "### Matrix Addition\n",
    "\n",
    "**NumPy:**"
   ]
  },
  {
   "cell_type": "code",
   "execution_count": 12,
   "id": "3fe2d5e5",
   "metadata": {},
   "outputs": [
    {
     "name": "stdout",
     "output_type": "stream",
     "text": [
      "NumPy Matrix Addition:\n",
      " [[ 6  8]\n",
      " [10 12]]\n"
     ]
    }
   ],
   "source": [
    "B_np = np.array([[5, 6], [7, 8]])\n",
    "sum_matrix_np = A_np + B_np\n",
    "print(\"NumPy Matrix Addition:\\n\", sum_matrix_np)"
   ]
  },
  {
   "cell_type": "markdown",
   "id": "de7a7e23",
   "metadata": {},
   "source": [
    "**SymPy:**"
   ]
  },
  {
   "cell_type": "code",
   "execution_count": 13,
   "id": "9b9aa278",
   "metadata": {},
   "outputs": [
    {
     "data": {
      "image/png": "[encoded data removed]",
      "text/latex": [
       "$\\displaystyle \\left[\\begin{matrix}6 & 8\\\\10 & 12\\end{matrix}\\right]$"
      ],
      "text/plain": [
       "⎡6   8 ⎤\n",
       "⎢      ⎥\n",
       "⎣10  12⎦"
      ]
     },
     "execution_count": 13,
     "metadata": {},
     "output_type": "execute_result"
    }
   ],
   "source": [
    "B_sp = Matrix([[5, 6], [7, 8]])\n",
    "sum_matrix_sp = A_sp + B_sp\n",
    "sum_matrix_sp"
   ]
  },
  {
   "cell_type": "markdown",
   "id": "204eafbf",
   "metadata": {},
   "source": [
    "### Matrix Multiplication\n",
    "\n",
    "**NumPy:**"
   ]
  },
  {
   "cell_type": "code",
   "execution_count": 14,
   "id": "f6b6d558",
   "metadata": {},
   "outputs": [
    {
     "name": "stdout",
     "output_type": "stream",
     "text": [
      "NumPy Matrix Multiplication:\n",
      " [[19 22]\n",
      " [43 50]]\n"
     ]
    }
   ],
   "source": [
    "product_np = np.dot(A_np, B_np)\n",
    "print(\"NumPy Matrix Multiplication:\\n\", product_np)"
   ]
  },
  {
   "cell_type": "markdown",
   "id": "820642d6",
   "metadata": {},
   "source": [
    "**SymPy:**"
   ]
  },
  {
   "cell_type": "code",
   "execution_count": 15,
   "id": "6724405a",
   "metadata": {},
   "outputs": [
    {
     "data": {
      "image/png": "[encoded data removed]",
      "text/latex": [
       "$\\displaystyle \\left[\\begin{matrix}19 & 22\\\\43 & 50\\end{matrix}\\right]$"
      ],
      "text/plain": [
       "⎡19  22⎤\n",
       "⎢      ⎥\n",
       "⎣43  50⎦"
      ]
     },
     "execution_count": 15,
     "metadata": {},
     "output_type": "execute_result"
    }
   ],
   "source": [
    "product_sp = A_sp * B_sp\n",
    "product_sp"
   ]
  },
  {
   "cell_type": "markdown",
   "id": "94cc0d3c",
   "metadata": {},
   "source": [
    "### Transpose and Inverse\n",
    "\n",
    "**NumPy:**"
   ]
  },
  {
   "cell_type": "code",
   "execution_count": 16,
   "id": "40ad77f2",
   "metadata": {},
   "outputs": [
    {
     "name": "stdout",
     "output_type": "stream",
     "text": [
      "NumPy Transpose of A:\n",
      " [[1 3]\n",
      " [2 4]]\n",
      "NumPy Inverse of A:\n",
      " [[-2.   1. ]\n",
      " [ 1.5 -0.5]]\n"
     ]
    }
   ],
   "source": [
    "transpose_np = A_np.T\n",
    "print(\"NumPy Transpose of A:\\n\", transpose_np)\n",
    "\n",
    "inverse_np = np.linalg.inv(A_np)\n",
    "print(\"NumPy Inverse of A:\\n\", inverse_np)"
   ]
  },
  {
   "cell_type": "markdown",
   "id": "674f3b95",
   "metadata": {},
   "source": [
    "**SymPy:**"
   ]
  },
  {
   "cell_type": "code",
   "execution_count": 17,
   "id": "aee0e308",
   "metadata": {},
   "outputs": [
    {
     "data": {
      "image/png": "[encoded data removed]",
      "text/latex": [
       "$\\displaystyle \\left[\\begin{matrix}1 & 3\\\\2 & 4\\end{matrix}\\right]$"
      ],
      "text/plain": [
       "⎡1  3⎤\n",
       "⎢    ⎥\n",
       "⎣2  4⎦"
      ]
     },
     "execution_count": 17,
     "metadata": {},
     "output_type": "execute_result"
    }
   ],
   "source": [
    "transpose_sp = A_sp.T\n",
    "transpose_sp"
   ]
  },
  {
   "cell_type": "code",
   "execution_count": 18,
   "id": "d6843676",
   "metadata": {},
   "outputs": [
    {
     "data": {
      "image/png": "[encoded data removed]",
      "text/latex": [
       "$\\displaystyle \\left[\\begin{matrix}-2 & 1\\\\\\frac{3}{2} & - \\frac{1}{2}\\end{matrix}\\right]$"
      ],
      "text/plain": [
       "⎡-2    1  ⎤\n",
       "⎢         ⎥\n",
       "⎣3/2  -1/2⎦"
      ]
     },
     "execution_count": 18,
     "metadata": {},
     "output_type": "execute_result"
    }
   ],
   "source": [
    "inverse_sp = A_sp.inv()\n",
    "inverse_sp"
   ]
  },
  {
   "cell_type": "markdown",
   "id": "80ab71a2",
   "metadata": {},
   "source": [
    "---\n",
    "\n",
    "<a id='solving'></a>\n",
    "## 4. Solving Linear Systems\n",
    "\n",
    "Consider the system of equations:\n",
    "\n",
    "$$\n",
    "\\begin{cases}\n",
    "x + 2y = 5 \\\\\n",
    "3x + 4y = 6\n",
    "\\end{cases}\n",
    "$$"
   ]
  },
  {
   "cell_type": "markdown",
   "id": "ff81c0d3",
   "metadata": {},
   "source": [
    "### Numerical Solution with NumPy"
   ]
  },
  {
   "cell_type": "code",
   "execution_count": 19,
   "id": "42a23cd8",
   "metadata": {},
   "outputs": [
    {
     "name": "stdout",
     "output_type": "stream",
     "text": [
      "Solution with NumPy: [-4.   4.5]\n"
     ]
    }
   ],
   "source": [
    "coefficients = np.array([[1, 2], [3, 4]])\n",
    "constants = np.array([5, 6])\n",
    "\n",
    "solution_np = np.linalg.solve(coefficients, constants)\n",
    "print(\"Solution with NumPy:\", solution_np)"
   ]
  },
  {
   "cell_type": "markdown",
   "id": "3a9f1c30",
   "metadata": {},
   "source": [
    "### Symbolic Solution with SymPy"
   ]
  },
  {
   "cell_type": "code",
   "execution_count": 20,
   "id": "f08e5223",
   "metadata": {},
   "outputs": [
    {
     "data": {
      "image/png": "[encoded data removed]",
      "text/latex": [
       "$\\displaystyle \\left\\{ x : -4, \\  y : \\frac{9}{2}\\right\\}$"
      ],
      "text/plain": [
       "{x: -4, y: 9/2}"
      ]
     },
     "execution_count": 20,
     "metadata": {},
     "output_type": "execute_result"
    }
   ],
   "source": [
    "x, y = symbols('x y')\n",
    "equations = [x + 2*y - 5, 3*x + 4*y - 6]\n",
    "\n",
    "solution_sp = sp.solve(equations, (x, y))\n",
    "solution_sp"
   ]
  },
  {
   "cell_type": "markdown",
   "id": "902b50e4",
   "metadata": {},
   "source": [
    "---\n",
    "\n",
    "<a id='eigen'></a>\n",
    "## 5. Eigenvalues and Eigenvectors\n",
    "\n",
    "### Numerical Computation with NumPy"
   ]
  },
  {
   "cell_type": "code",
   "execution_count": 21,
   "id": "8a702c93",
   "metadata": {},
   "outputs": [
    {
     "name": "stdout",
     "output_type": "stream",
     "text": [
      "NumPy Eigenvalues: [-0.37228132  5.37228132]\n",
      "NumPy Eigenvectors:\n",
      " [[-0.82456484 -0.41597356]\n",
      " [ 0.56576746 -0.90937671]]\n"
     ]
    }
   ],
   "source": [
    "# Using the same matrix A_np\n",
    "eigenvalues_np, eigenvectors_np = np.linalg.eig(A_np)\n",
    "print(\"NumPy Eigenvalues:\", eigenvalues_np)\n",
    "print(\"NumPy Eigenvectors:\\n\", eigenvectors_np)"
   ]
  },
  {
   "cell_type": "markdown",
   "id": "bec636ed",
   "metadata": {},
   "source": [
    "### Symbolic Computation with SymPy"
   ]
  },
  {
   "cell_type": "code",
   "execution_count": 22,
   "id": "5d23f6bd",
   "metadata": {},
   "outputs": [
    {
     "data": {
      "image/png": "[encoded data removed]",
      "text/latex": [
       "$\\displaystyle \\left\\{ \\frac{5}{2} - \\frac{\\sqrt{33}}{2} : 1, \\  \\frac{5}{2} + \\frac{\\sqrt{33}}{2} : 1\\right\\}$"
      ],
      "text/plain": [
       "⎧5   √33     5   √33   ⎫\n",
       "⎨─ - ───: 1, ─ + ───: 1⎬\n",
       "⎩2    2      2    2    ⎭"
      ]
     },
     "execution_count": 22,
     "metadata": {},
     "output_type": "execute_result"
    }
   ],
   "source": [
    "eigenvalues_sp = A_sp.eigenvals()\n",
    "eigenvectors_sp = A_sp.eigenvects()\n",
    "eigenvalues_sp"
   ]
  },
  {
   "cell_type": "code",
   "execution_count": 23,
   "id": "8e4e464d",
   "metadata": {},
   "outputs": [
    {
     "data": {
      "image/png": "[encoded data removed]",
      "text/latex": [
       "$\\displaystyle \\left[ \\left( \\frac{5}{2} - \\frac{\\sqrt{33}}{2}, \\  1, \\  \\left[ \\left[\\begin{matrix}- \\frac{\\sqrt{33}}{6} - \\frac{1}{2}\\\\1\\end{matrix}\\right]\\right]\\right), \\  \\left( \\frac{5}{2} + \\frac{\\sqrt{33}}{2}, \\  1, \\  \\left[ \\left[\\begin{matrix}- \\frac{1}{2} + \\frac{\\sqrt{33}}{6}\\\\1\\end{matrix}\\right]\\right]\\right)\\right]$"
      ],
      "text/plain": [
       "⎡⎛            ⎡⎡  √33   1⎤⎤⎞  ⎛            ⎡⎡  1   √33⎤⎤⎞⎤\n",
       "⎢⎜5   √33     ⎢⎢- ─── - ─⎥⎥⎟  ⎜5   √33     ⎢⎢- ─ + ───⎥⎥⎟⎥\n",
       "⎢⎜─ - ───, 1, ⎢⎢   6    2⎥⎥⎟, ⎜─ + ───, 1, ⎢⎢  2    6 ⎥⎥⎟⎥\n",
       "⎢⎜2    2      ⎢⎢         ⎥⎥⎟  ⎜2    2      ⎢⎢         ⎥⎥⎟⎥\n",
       "⎣⎝            ⎣⎣    1    ⎦⎦⎠  ⎝            ⎣⎣    1    ⎦⎦⎠⎦"
      ]
     },
     "execution_count": 23,
     "metadata": {},
     "output_type": "execute_result"
    }
   ],
   "source": [
    "# To display eigenvectors\n",
    "eigenvectors_sp"
   ]
  },
  {
   "cell_type": "markdown",
   "id": "1c0f39a2",
   "metadata": {},
   "source": [
    "---\n",
    "\n",
    "<a id='conclusion'></a>\n",
    "## 6. When to Use NumPy vs. SymPy\n",
    "\n",
    "- **Use NumPy when:**\n",
    "  - You need fast numerical computations with large datasets.\n",
    "  - You are working with floating-point numbers and approximate solutions.\n",
    "  - Performance is critical.\n",
    "\n",
    "- **Use SymPy when:**\n",
    "  - You require exact, symbolic solutions.\n",
    "  - You are performing algebraic manipulations.\n",
    "  - You need to display mathematical expressions in a readable format."
   ]
  },
  {
   "cell_type": "markdown",
   "id": "eb4ae8dc",
   "metadata": {},
   "source": [
    "---\n",
    "\n",
    "By understanding the strengths of both NumPy and SymPy, you can choose the appropriate library for your linear algebra tasks in Python."
   ]
  }
 ],
 "metadata": {
  "kernelspec": {
   "display_name": "base",
   "language": "python",
   "name": "python3"
  },
  "language_info": {
   "codemirror_mode": {
    "name": "ipython",
    "version": 3
   },
   "file_extension": ".py",
   "mimetype": "text/x-python",
   "name": "python",
   "nbconvert_exporter": "python",
   "pygments_lexer": "ipython3",
   "version": "3.11.4"
  }
 },
 "nbformat": 4,
 "nbformat_minor": 5
}
